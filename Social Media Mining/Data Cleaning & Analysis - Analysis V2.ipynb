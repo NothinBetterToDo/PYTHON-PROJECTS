{
 "cells": [
  {
   "cell_type": "code",
   "execution_count": 1,
   "metadata": {
    "collapsed": true
   },
   "outputs": [],
   "source": [
    "import numpy as np\n",
    "import pickle as pkl\n",
    "import pandas as pd\n",
    "import csv\n",
    "import langdetect"
   ]
  },
  {
   "cell_type": "code",
   "execution_count": 2,
   "metadata": {
    "collapsed": false
   },
   "outputs": [],
   "source": [
    "df = pd.read_csv(\"iPhone7_eng.csv\", index_col=0, encoding=\"latin1\")"
   ]
  },
  {
   "cell_type": "code",
   "execution_count": 3,
   "metadata": {
    "collapsed": false
   },
   "outputs": [
    {
     "data": {
      "text/html": [
       "<div>\n",
       "<table border=\"1\" class=\"dataframe\">\n",
       "  <thead>\n",
       "    <tr style=\"text-align: right;\">\n",
       "      <th></th>\n",
       "      <th>date</th>\n",
       "      <th>username</th>\n",
       "      <th>text</th>\n",
       "      <th>favorites_count</th>\n",
       "      <th>four_question_marks</th>\n",
       "      <th>lang</th>\n",
       "    </tr>\n",
       "  </thead>\n",
       "  <tbody>\n",
       "    <tr>\n",
       "      <th>4</th>\n",
       "      <td>15/7/2016 7:51</td>\n",
       "      <td>iphone6_sleeves</td>\n",
       "      <td>iPhone 6|iPhone 6 Plus Sleeve | BLUEBERRY MANG...</td>\n",
       "      <td>0</td>\n",
       "      <td>False</td>\n",
       "      <td>en</td>\n",
       "    </tr>\n",
       "    <tr>\n",
       "      <th>10</th>\n",
       "      <td>15/7/2016 7:50</td>\n",
       "      <td>IphoneTutes</td>\n",
       "      <td>Apple iPhone SE ... - http:// goo.gl/bDxc5Q #i...</td>\n",
       "      <td>0</td>\n",
       "      <td>False</td>\n",
       "      <td>en</td>\n",
       "    </tr>\n",
       "    <tr>\n",
       "      <th>11</th>\n",
       "      <td>15/7/2016 7:49</td>\n",
       "      <td>crafterei</td>\n",
       "      <td>Leather|Felt Sleeve for iPhone 6|Plus | TWICE ...</td>\n",
       "      <td>0</td>\n",
       "      <td>False</td>\n",
       "      <td>en</td>\n",
       "    </tr>\n",
       "    <tr>\n",
       "      <th>13</th>\n",
       "      <td>15/7/2016 7:48</td>\n",
       "      <td>iphone6_sleeves</td>\n",
       "      <td>iPhone 6 Plus Leather Sleeve | RUM DIARY | htt...</td>\n",
       "      <td>0</td>\n",
       "      <td>False</td>\n",
       "      <td>en</td>\n",
       "    </tr>\n",
       "    <tr>\n",
       "      <th>16</th>\n",
       "      <td>15/7/2016 7:48</td>\n",
       "      <td>kiwo02</td>\n",
       "      <td>Da ist es! #iPhone7 https:// m.youtube.com/wat...</td>\n",
       "      <td>1</td>\n",
       "      <td>False</td>\n",
       "      <td>en</td>\n",
       "    </tr>\n",
       "  </tbody>\n",
       "</table>\n",
       "</div>"
      ],
      "text/plain": [
       "              date         username  \\\n",
       "4   15/7/2016 7:51  iphone6_sleeves   \n",
       "10  15/7/2016 7:50      IphoneTutes   \n",
       "11  15/7/2016 7:49        crafterei   \n",
       "13  15/7/2016 7:48  iphone6_sleeves   \n",
       "16  15/7/2016 7:48           kiwo02   \n",
       "\n",
       "                                                 text  favorites_count  \\\n",
       "4   iPhone 6|iPhone 6 Plus Sleeve | BLUEBERRY MANG...                0   \n",
       "10  Apple iPhone SE ... - http:// goo.gl/bDxc5Q #i...                0   \n",
       "11  Leather|Felt Sleeve for iPhone 6|Plus | TWICE ...                0   \n",
       "13  iPhone 6 Plus Leather Sleeve | RUM DIARY | htt...                0   \n",
       "16  Da ist es! #iPhone7 https:// m.youtube.com/wat...                1   \n",
       "\n",
       "   four_question_marks lang  \n",
       "4                False   en  \n",
       "10               False   en  \n",
       "11               False   en  \n",
       "13               False   en  \n",
       "16               False   en  "
      ]
     },
     "execution_count": 3,
     "metadata": {},
     "output_type": "execute_result"
    }
   ],
   "source": [
    "df.head()"
   ]
  },
  {
   "cell_type": "code",
   "execution_count": 4,
   "metadata": {
    "collapsed": false
   },
   "outputs": [
    {
     "data": {
      "text/plain": [
       "(191268, 6)"
      ]
     },
     "execution_count": 4,
     "metadata": {},
     "output_type": "execute_result"
    }
   ],
   "source": [
    "df.shape"
   ]
  },
  {
   "cell_type": "code",
   "execution_count": 5,
   "metadata": {
    "collapsed": false
   },
   "outputs": [
    {
     "data": {
      "text/plain": [
       "93167"
      ]
     },
     "execution_count": 5,
     "metadata": {},
     "output_type": "execute_result"
    }
   ],
   "source": [
    "df.username.duplicated().sum()"
   ]
  },
  {
   "cell_type": "code",
   "execution_count": 6,
   "metadata": {
    "collapsed": false
   },
   "outputs": [
    {
     "name": "stdout",
     "output_type": "stream",
     "text": [
      "#iPhone #iPhone6 iPhone 5c 16GB pink http:// ebay.to/29SphJy #iPhone6plus #apple\n"
     ]
    }
   ],
   "source": [
    "tweet = df.iloc[10, :]\n",
    "print(tweet.text)"
   ]
  },
  {
   "cell_type": "code",
   "execution_count": 7,
   "metadata": {
    "collapsed": true
   },
   "outputs": [],
   "source": [
    "from nltk import word_tokenize\n",
    "from afinn import Afinn"
   ]
  },
  {
   "cell_type": "code",
   "execution_count": 8,
   "metadata": {
    "collapsed": true
   },
   "outputs": [],
   "source": [
    "import re\n",
    "def remove_urls (text):\n",
    "    text = re.sub(r'(https|http)?:\\/\\/(\\w|\\.|\\/|\\?|\\=|\\&|\\%)*\\b', '', tweet.text, flags=re.MULTILINE)\n",
    "    return(text)"
   ]
  },
  {
   "cell_type": "code",
   "execution_count": 9,
   "metadata": {
    "collapsed": true
   },
   "outputs": [],
   "source": [
    "# Sentiment Analysis - Trial 1 using Natural Language Toolkit\n",
    "sentiment_labels = []\n",
    "\n",
    "for text in df['text']:\n",
    "    tokenized_text = word_tokenize(text)\n",
    "    if \"good\" in tokenized_text:\n",
    "        sentiment_labels.append(1) \n",
    "    elif \"bad\" in tokenized_text:\n",
    "        sentiment_labels.append(-1) \n",
    "    else:\n",
    "        sentiment_labels.append(0) "
   ]
  },
  {
   "cell_type": "code",
   "execution_count": 10,
   "metadata": {
    "collapsed": false
   },
   "outputs": [
    {
     "data": {
      "text/html": [
       "<div>\n",
       "<table border=\"1\" class=\"dataframe\">\n",
       "  <thead>\n",
       "    <tr style=\"text-align: right;\">\n",
       "      <th></th>\n",
       "      <th>date</th>\n",
       "      <th>username</th>\n",
       "      <th>text</th>\n",
       "      <th>favorites_count</th>\n",
       "      <th>four_question_marks</th>\n",
       "      <th>lang</th>\n",
       "    </tr>\n",
       "    <tr>\n",
       "      <th>sentiment</th>\n",
       "      <th></th>\n",
       "      <th></th>\n",
       "      <th></th>\n",
       "      <th></th>\n",
       "      <th></th>\n",
       "      <th></th>\n",
       "    </tr>\n",
       "  </thead>\n",
       "  <tbody>\n",
       "    <tr>\n",
       "      <th>-1</th>\n",
       "      <td>539</td>\n",
       "      <td>539</td>\n",
       "      <td>539</td>\n",
       "      <td>539</td>\n",
       "      <td>539</td>\n",
       "      <td>539</td>\n",
       "    </tr>\n",
       "    <tr>\n",
       "      <th>0</th>\n",
       "      <td>189520</td>\n",
       "      <td>189520</td>\n",
       "      <td>189520</td>\n",
       "      <td>189520</td>\n",
       "      <td>189520</td>\n",
       "      <td>189520</td>\n",
       "    </tr>\n",
       "    <tr>\n",
       "      <th>1</th>\n",
       "      <td>1209</td>\n",
       "      <td>1209</td>\n",
       "      <td>1209</td>\n",
       "      <td>1209</td>\n",
       "      <td>1209</td>\n",
       "      <td>1209</td>\n",
       "    </tr>\n",
       "  </tbody>\n",
       "</table>\n",
       "</div>"
      ],
      "text/plain": [
       "             date  username    text  favorites_count  four_question_marks  \\\n",
       "sentiment                                                                   \n",
       "-1            539       539     539              539                  539   \n",
       " 0         189520    189520  189520           189520               189520   \n",
       " 1           1209      1209    1209             1209                 1209   \n",
       "\n",
       "             lang  \n",
       "sentiment          \n",
       "-1            539  \n",
       " 0         189520  \n",
       " 1           1209  "
      ]
     },
     "execution_count": 10,
     "metadata": {},
     "output_type": "execute_result"
    }
   ],
   "source": [
    "df['sentiment'] = sentiment_labels\n",
    "df.groupby([\"sentiment\"]).agg(\"count\")"
   ]
  },
  {
   "cell_type": "code",
   "execution_count": 17,
   "metadata": {
    "collapsed": false
   },
   "outputs": [
    {
     "name": "stdout",
     "output_type": "stream",
     "text": [
      "Negative\n",
      "I really feel bad for those who just bought iPhone 6s #iPhone7\n",
      "**************************************************\n",
      "You people think it's bad getting your iPhone 6S's at the beginning of the year? I got my 6S Plus in JUNE #iPhone7\n",
      "**************************************************\n",
      "I feel bad for those who just recently got the iPhone 6 #iPhone7\n",
      "**************************************************\n",
      "Can't wait for the iPhone 7 to come out so I can finally afford this bad boy pic.twitter.com/ieFpAXxGmS\n",
      "**************************************************\n",
      "iPhone 7 Release Will Punish Buyers with Bad Credit: If you have bad credit the iPhone 7 ... https:// binged.it/2bvH4sC #badcredit #finance\n",
      "**************************************************\n"
     ]
    }
   ],
   "source": [
    "iPhone7_neg = df[(df['sentiment']==-1)]\n",
    "print(\"Negative\")\n",
    "for t in iPhone7_neg['text'][50:55]:\n",
    "    print(t)\n",
    "    print(\"*\"*50)"
   ]
  },
  {
   "cell_type": "code",
   "execution_count": 19,
   "metadata": {
    "collapsed": false
   },
   "outputs": [
    {
     "name": "stdout",
     "output_type": "stream",
     "text": [
      "Positive\n",
      "Who needs an iPhone 7 when Best Buy?s iPhone sale is this good? http:// dlvr.it/M8SkJW\n",
      "**************************************************\n",
      "Who needs an iPhone 7 when Best Buy?s iPhone sale is this good? http:// ift.tt/2bDzXc3 pic.twitter.com/IvsWLgPYOA\n",
      "**************************************************\n",
      "BGR : Who needs an iPhone 7 when Best Buy?s iPhone sale is this good? http:// ift.tt/2bDzXc3\n",
      "**************************************************\n",
      "Who needs an iPhone 7 when Best Buy?s iPhone sale is this good? https:// goo.gl/hFUzoc #downloader #androidapps\n",
      "**************************************************\n",
      "Who needs an iPhone 7 when Best Buy?s iPhone sale is this good? http:// goo.gl/fb/pm5Iam #bgr\n",
      "**************************************************\n",
      "Who needs an iPhone 7 when Best Buy?s iPhone sale is this good? http:// bgr.com/2016/08/30/iph one-se-cost-best-buy-sale-refurbished/ ? | BGR\n",
      "**************************************************\n",
      "Who needs an iPhone 7 when Best Buy?s iPhone sale is this good?: If you?re in the market for? http:// goo.gl/fb/z2uPgr\n",
      "**************************************************\n",
      "Who needs an iPhone 7 when Best Buy?s iPhone sale is this good? http:// dlvr.it/M8Scy8\n",
      "**************************************************\n",
      "Who needs an iPhone 7 when Best Buy?s iPhone sale is this good? http:// bit.ly/2bzGCXP\n",
      "**************************************************\n",
      "Who needs an iPhone 7 when Best Buy?s iPhone sale is this good?: If you?re in the market for a new iPhone, yo... http:// bit.ly/2byDXAq\n",
      "**************************************************\n"
     ]
    }
   ],
   "source": [
    "iPhone7_pos = df[(df['sentiment']==1)]\n",
    "print(\"Positive\")\n",
    "for t in iPhone7_pos['text'][90:100]:\n",
    "    print(t)\n",
    "    print(\"*\"*50)"
   ]
  },
  {
   "cell_type": "code",
   "execution_count": 20,
   "metadata": {
    "collapsed": true
   },
   "outputs": [],
   "source": [
    "# Sentiment Analysis - Trial 2 using AFINN\n",
    "afinn = Afinn()"
   ]
  },
  {
   "cell_type": "code",
   "execution_count": 21,
   "metadata": {
    "collapsed": false
   },
   "outputs": [
    {
     "data": {
      "text/plain": [
       "[0.0, 0.0, 0.0, 0.0, 0.0, 0.0, 4.0, 0.0, 2.0, 0.0]"
      ]
     },
     "execution_count": 21,
     "metadata": {},
     "output_type": "execute_result"
    }
   ],
   "source": [
    "pscore = []\n",
    "\n",
    "for text in df['text']:\n",
    "    pscore.append(afinn.score(text))\n",
    "\n",
    "pscore[:10]"
   ]
  },
  {
   "cell_type": "code",
   "execution_count": 22,
   "metadata": {
    "collapsed": false
   },
   "outputs": [
    {
     "data": {
      "text/html": [
       "<div>\n",
       "<table border=\"1\" class=\"dataframe\">\n",
       "  <thead>\n",
       "    <tr style=\"text-align: right;\">\n",
       "      <th></th>\n",
       "      <th>date</th>\n",
       "      <th>username</th>\n",
       "      <th>text</th>\n",
       "      <th>favorites_count</th>\n",
       "      <th>four_question_marks</th>\n",
       "      <th>lang</th>\n",
       "      <th>sentiment</th>\n",
       "      <th>pscore</th>\n",
       "    </tr>\n",
       "  </thead>\n",
       "  <tbody>\n",
       "    <tr>\n",
       "      <th>315250</th>\n",
       "      <td>26/10/2016 1:19</td>\n",
       "      <td>computerworks5</td>\n",
       "      <td>TOZO for iPhone 7 Plus Case [0.35mm] Ultra-Thi...</td>\n",
       "      <td>0</td>\n",
       "      <td>False</td>\n",
       "      <td>en</td>\n",
       "      <td>0</td>\n",
       "      <td>7.0</td>\n",
       "    </tr>\n",
       "    <tr>\n",
       "      <th>315251</th>\n",
       "      <td>26/10/2016 1:19</td>\n",
       "      <td>EntMediaNews</td>\n",
       "      <td>iPhone 7 Plus : Apple May Have Underestimated ...</td>\n",
       "      <td>0</td>\n",
       "      <td>False</td>\n",
       "      <td>en</td>\n",
       "      <td>0</td>\n",
       "      <td>-4.0</td>\n",
       "    </tr>\n",
       "    <tr>\n",
       "      <th>315252</th>\n",
       "      <td>26/10/2016 1:18</td>\n",
       "      <td>SiirChauncey</td>\n",
       "      <td>I love my iPhone 7 Plus by Apple</td>\n",
       "      <td>0</td>\n",
       "      <td>False</td>\n",
       "      <td>en</td>\n",
       "      <td>0</td>\n",
       "      <td>3.0</td>\n",
       "    </tr>\n",
       "    <tr>\n",
       "      <th>315253</th>\n",
       "      <td>26/10/2016 1:18</td>\n",
       "      <td>mislavbusic</td>\n",
       "      <td>Jedna s #iPhone7Plus pic.twitter.com/21BBbMHwpJ</td>\n",
       "      <td>21</td>\n",
       "      <td>False</td>\n",
       "      <td>en</td>\n",
       "      <td>0</td>\n",
       "      <td>0.0</td>\n",
       "    </tr>\n",
       "    <tr>\n",
       "      <th>315254</th>\n",
       "      <td>26/10/2016 1:18</td>\n",
       "      <td>UbergizmoDE</td>\n",
       "      <td>iOS 10.1 mit Fehlerbehebungen und neuem Porträ...</td>\n",
       "      <td>0</td>\n",
       "      <td>False</td>\n",
       "      <td>en</td>\n",
       "      <td>0</td>\n",
       "      <td>0.0</td>\n",
       "    </tr>\n",
       "    <tr>\n",
       "      <th>315255</th>\n",
       "      <td>26/10/2016 1:18</td>\n",
       "      <td>MekelJames</td>\n",
       "      <td>Unboxing of Acewin iPhone 7 Plus Case &amp; New Ne...</td>\n",
       "      <td>3</td>\n",
       "      <td>False</td>\n",
       "      <td>en</td>\n",
       "      <td>0</td>\n",
       "      <td>1.0</td>\n",
       "    </tr>\n",
       "    <tr>\n",
       "      <th>315256</th>\n",
       "      <td>26/10/2016 1:17</td>\n",
       "      <td>Sokom_Im</td>\n",
       "      <td>'In Squad We Trust' #lightRooM #potrait #iphon...</td>\n",
       "      <td>2</td>\n",
       "      <td>False</td>\n",
       "      <td>en</td>\n",
       "      <td>0</td>\n",
       "      <td>1.0</td>\n",
       "    </tr>\n",
       "    <tr>\n",
       "      <th>315257</th>\n",
       "      <td>26/10/2016 1:17</td>\n",
       "      <td>kumarAbhi91</td>\n",
       "      <td>For Apple, Surprise Demand for iPhone 7 Plus M...</td>\n",
       "      <td>0</td>\n",
       "      <td>False</td>\n",
       "      <td>en</td>\n",
       "      <td>0</td>\n",
       "      <td>-1.0</td>\n",
       "    </tr>\n",
       "    <tr>\n",
       "      <th>315258</th>\n",
       "      <td>26/10/2016 1:17</td>\n",
       "      <td>DoctorNayan</td>\n",
       "      <td>Breaking News For Apple, Surprise Demand for i...</td>\n",
       "      <td>0</td>\n",
       "      <td>False</td>\n",
       "      <td>en</td>\n",
       "      <td>0</td>\n",
       "      <td>-1.0</td>\n",
       "    </tr>\n",
       "    <tr>\n",
       "      <th>315259</th>\n",
       "      <td>26/10/2016 1:17</td>\n",
       "      <td>letsmoveonn</td>\n",
       "      <td>Breaking News For Apple, Surprise Demand for i...</td>\n",
       "      <td>0</td>\n",
       "      <td>False</td>\n",
       "      <td>en</td>\n",
       "      <td>0</td>\n",
       "      <td>-1.0</td>\n",
       "    </tr>\n",
       "  </tbody>\n",
       "</table>\n",
       "</div>"
      ],
      "text/plain": [
       "                   date        username  \\\n",
       "315250  26/10/2016 1:19  computerworks5   \n",
       "315251  26/10/2016 1:19    EntMediaNews   \n",
       "315252  26/10/2016 1:18    SiirChauncey   \n",
       "315253  26/10/2016 1:18     mislavbusic   \n",
       "315254  26/10/2016 1:18     UbergizmoDE   \n",
       "315255  26/10/2016 1:18      MekelJames   \n",
       "315256  26/10/2016 1:17        Sokom_Im   \n",
       "315257  26/10/2016 1:17     kumarAbhi91   \n",
       "315258  26/10/2016 1:17     DoctorNayan   \n",
       "315259  26/10/2016 1:17     letsmoveonn   \n",
       "\n",
       "                                                     text  favorites_count  \\\n",
       "315250  TOZO for iPhone 7 Plus Case [0.35mm] Ultra-Thi...                0   \n",
       "315251  iPhone 7 Plus : Apple May Have Underestimated ...                0   \n",
       "315252                   I love my iPhone 7 Plus by Apple                0   \n",
       "315253    Jedna s #iPhone7Plus pic.twitter.com/21BBbMHwpJ               21   \n",
       "315254  iOS 10.1 mit Fehlerbehebungen und neuem Porträ...                0   \n",
       "315255  Unboxing of Acewin iPhone 7 Plus Case & New Ne...                3   \n",
       "315256  'In Squad We Trust' #lightRooM #potrait #iphon...                2   \n",
       "315257  For Apple, Surprise Demand for iPhone 7 Plus M...                0   \n",
       "315258  Breaking News For Apple, Surprise Demand for i...                0   \n",
       "315259  Breaking News For Apple, Surprise Demand for i...                0   \n",
       "\n",
       "       four_question_marks lang  sentiment  pscore  \n",
       "315250               False   en          0     7.0  \n",
       "315251               False   en          0    -4.0  \n",
       "315252               False   en          0     3.0  \n",
       "315253               False   en          0     0.0  \n",
       "315254               False   en          0     0.0  \n",
       "315255               False   en          0     1.0  \n",
       "315256               False   en          0     1.0  \n",
       "315257               False   en          0    -1.0  \n",
       "315258               False   en          0    -1.0  \n",
       "315259               False   en          0    -1.0  "
      ]
     },
     "execution_count": 22,
     "metadata": {},
     "output_type": "execute_result"
    }
   ],
   "source": [
    "df['pscore'] = pscore\n",
    "df.tail(10)"
   ]
  },
  {
   "cell_type": "code",
   "execution_count": 23,
   "metadata": {
    "collapsed": false
   },
   "outputs": [],
   "source": [
    "positive_pscore = df[df['pscore'] > 0]"
   ]
  },
  {
   "cell_type": "code",
   "execution_count": 24,
   "metadata": {
    "collapsed": false
   },
   "outputs": [
    {
     "data": {
      "text/plain": [
       "(56612, 8)"
      ]
     },
     "execution_count": 24,
     "metadata": {},
     "output_type": "execute_result"
    }
   ],
   "source": [
    "positive_pscore.shape"
   ]
  },
  {
   "cell_type": "code",
   "execution_count": 25,
   "metadata": {
    "collapsed": false
   },
   "outputs": [
    {
     "data": {
      "text/html": [
       "<div>\n",
       "<table border=\"1\" class=\"dataframe\">\n",
       "  <thead>\n",
       "    <tr style=\"text-align: right;\">\n",
       "      <th></th>\n",
       "      <th>date</th>\n",
       "      <th>username</th>\n",
       "      <th>text</th>\n",
       "      <th>favorites_count</th>\n",
       "      <th>four_question_marks</th>\n",
       "      <th>lang</th>\n",
       "      <th>sentiment</th>\n",
       "      <th>pscore</th>\n",
       "    </tr>\n",
       "  </thead>\n",
       "  <tbody>\n",
       "    <tr>\n",
       "      <th>29</th>\n",
       "      <td>15/7/2016 7:39</td>\n",
       "      <td>derek_madlutk</td>\n",
       "      <td>Hey @AppleSupport , I have a solution 2 increa...</td>\n",
       "      <td>0</td>\n",
       "      <td>False</td>\n",
       "      <td>en</td>\n",
       "      <td>0</td>\n",
       "      <td>4.0</td>\n",
       "    </tr>\n",
       "    <tr>\n",
       "      <th>35</th>\n",
       "      <td>15/7/2016 7:36</td>\n",
       "      <td>oppresne90</td>\n",
       "      <td>Mia Khalifa BEFORE She Became A Famous Porn St...</td>\n",
       "      <td>0</td>\n",
       "      <td>False</td>\n",
       "      <td>en</td>\n",
       "      <td>0</td>\n",
       "      <td>2.0</td>\n",
       "    </tr>\n",
       "    <tr>\n",
       "      <th>62</th>\n",
       "      <td>15/7/2016 7:26</td>\n",
       "      <td>EmilysAnelie</td>\n",
       "      <td>Emily buying her iPhone6 + and apple watch fla...</td>\n",
       "      <td>3</td>\n",
       "      <td>False</td>\n",
       "      <td>en</td>\n",
       "      <td>0</td>\n",
       "      <td>4.0</td>\n",
       "    </tr>\n",
       "    <tr>\n",
       "      <th>70</th>\n",
       "      <td>15/7/2016 7:22</td>\n",
       "      <td>justcallherA</td>\n",
       "      <td>hope the iPhone7 comes out early September, I ...</td>\n",
       "      <td>0</td>\n",
       "      <td>False</td>\n",
       "      <td>en</td>\n",
       "      <td>0</td>\n",
       "      <td>2.0</td>\n",
       "    </tr>\n",
       "    <tr>\n",
       "      <th>72</th>\n",
       "      <td>15/7/2016 7:20</td>\n",
       "      <td>JMAPPLE08</td>\n",
       "      <td>Nueva Filtración en VÍDEO del iPhone 7 #iphone...</td>\n",
       "      <td>1</td>\n",
       "      <td>False</td>\n",
       "      <td>en</td>\n",
       "      <td>0</td>\n",
       "      <td>1.0</td>\n",
       "    </tr>\n",
       "  </tbody>\n",
       "</table>\n",
       "</div>"
      ],
      "text/plain": [
       "              date       username  \\\n",
       "29  15/7/2016 7:39  derek_madlutk   \n",
       "35  15/7/2016 7:36     oppresne90   \n",
       "62  15/7/2016 7:26   EmilysAnelie   \n",
       "70  15/7/2016 7:22   justcallherA   \n",
       "72  15/7/2016 7:20      JMAPPLE08   \n",
       "\n",
       "                                                 text  favorites_count  \\\n",
       "29  Hey @AppleSupport , I have a solution 2 increa...                0   \n",
       "35  Mia Khalifa BEFORE She Became A Famous Porn St...                0   \n",
       "62  Emily buying her iPhone6 + and apple watch fla...                3   \n",
       "70  hope the iPhone7 comes out early September, I ...                0   \n",
       "72  Nueva Filtración en VÍDEO del iPhone 7 #iphone...                1   \n",
       "\n",
       "   four_question_marks lang  sentiment  pscore  \n",
       "29               False   en          0     4.0  \n",
       "35               False   en          0     2.0  \n",
       "62               False   en          0     4.0  \n",
       "70               False   en          0     2.0  \n",
       "72               False   en          0     1.0  "
      ]
     },
     "execution_count": 25,
     "metadata": {},
     "output_type": "execute_result"
    }
   ],
   "source": [
    "positive_pscore.head()"
   ]
  },
  {
   "cell_type": "code",
   "execution_count": 26,
   "metadata": {
    "collapsed": true
   },
   "outputs": [],
   "source": [
    "negative_pscore = df[df['pscore'] < 0]"
   ]
  },
  {
   "cell_type": "code",
   "execution_count": 27,
   "metadata": {
    "collapsed": false
   },
   "outputs": [
    {
     "data": {
      "text/plain": [
       "(25288, 8)"
      ]
     },
     "execution_count": 27,
     "metadata": {},
     "output_type": "execute_result"
    }
   ],
   "source": [
    "negative_pscore.shape"
   ]
  },
  {
   "cell_type": "code",
   "execution_count": 28,
   "metadata": {
    "collapsed": false
   },
   "outputs": [
    {
     "data": {
      "text/html": [
       "<div>\n",
       "<table border=\"1\" class=\"dataframe\">\n",
       "  <thead>\n",
       "    <tr style=\"text-align: right;\">\n",
       "      <th></th>\n",
       "      <th>date</th>\n",
       "      <th>username</th>\n",
       "      <th>text</th>\n",
       "      <th>favorites_count</th>\n",
       "      <th>four_question_marks</th>\n",
       "      <th>lang</th>\n",
       "      <th>sentiment</th>\n",
       "      <th>pscore</th>\n",
       "    </tr>\n",
       "  </thead>\n",
       "  <tbody>\n",
       "    <tr>\n",
       "      <th>67</th>\n",
       "      <td>15/7/2016 7:23</td>\n",
       "      <td>eBayShopperNews</td>\n",
       "      <td>#iPhone #iPhone6 ~NEW APPLE CERTIFIED~ Apple i...</td>\n",
       "      <td>0</td>\n",
       "      <td>False</td>\n",
       "      <td>en</td>\n",
       "      <td>0</td>\n",
       "      <td>-1.0</td>\n",
       "    </tr>\n",
       "    <tr>\n",
       "      <th>82</th>\n",
       "      <td>15/7/2016 7:16</td>\n",
       "      <td>TheApplePips</td>\n",
       "      <td>iPhone 7 rumors: Longer battery life and bigge...</td>\n",
       "      <td>0</td>\n",
       "      <td>False</td>\n",
       "      <td>en</td>\n",
       "      <td>0</td>\n",
       "      <td>-1.0</td>\n",
       "    </tr>\n",
       "    <tr>\n",
       "      <th>104</th>\n",
       "      <td>15/7/2016 7:02</td>\n",
       "      <td>GeekNe_ws</td>\n",
       "      <td>The iPhone 7 May Come In 4 Different Colors, A...</td>\n",
       "      <td>0</td>\n",
       "      <td>False</td>\n",
       "      <td>en</td>\n",
       "      <td>0</td>\n",
       "      <td>-1.0</td>\n",
       "    </tr>\n",
       "    <tr>\n",
       "      <th>128</th>\n",
       "      <td>15/7/2016 6:46</td>\n",
       "      <td>cilgiaho92</td>\n",
       "      <td>Sara Jean Underwood Goes Basically Naked On In...</td>\n",
       "      <td>0</td>\n",
       "      <td>False</td>\n",
       "      <td>en</td>\n",
       "      <td>0</td>\n",
       "      <td>-2.0</td>\n",
       "    </tr>\n",
       "    <tr>\n",
       "      <th>139</th>\n",
       "      <td>15/7/2016 6:36</td>\n",
       "      <td>MARCIANOPHONE</td>\n",
       "      <td>FILTRADO! iPhone7 SIN entrada de Headphone jac...</td>\n",
       "      <td>45</td>\n",
       "      <td>False</td>\n",
       "      <td>en</td>\n",
       "      <td>0</td>\n",
       "      <td>-2.0</td>\n",
       "    </tr>\n",
       "  </tbody>\n",
       "</table>\n",
       "</div>"
      ],
      "text/plain": [
       "               date         username  \\\n",
       "67   15/7/2016 7:23  eBayShopperNews   \n",
       "82   15/7/2016 7:16     TheApplePips   \n",
       "104  15/7/2016 7:02        GeekNe_ws   \n",
       "128  15/7/2016 6:46       cilgiaho92   \n",
       "139  15/7/2016 6:36    MARCIANOPHONE   \n",
       "\n",
       "                                                  text  favorites_count  \\\n",
       "67   #iPhone #iPhone6 ~NEW APPLE CERTIFIED~ Apple i...                0   \n",
       "82   iPhone 7 rumors: Longer battery life and bigge...                0   \n",
       "104  The iPhone 7 May Come In 4 Different Colors, A...                0   \n",
       "128  Sara Jean Underwood Goes Basically Naked On In...                0   \n",
       "139  FILTRADO! iPhone7 SIN entrada de Headphone jac...               45   \n",
       "\n",
       "    four_question_marks lang  sentiment  pscore  \n",
       "67                False   en          0    -1.0  \n",
       "82                False   en          0    -1.0  \n",
       "104               False   en          0    -1.0  \n",
       "128               False   en          0    -2.0  \n",
       "139               False   en          0    -2.0  "
      ]
     },
     "execution_count": 28,
     "metadata": {},
     "output_type": "execute_result"
    }
   ],
   "source": [
    "negative_pscore.head()"
   ]
  },
  {
   "cell_type": "code",
   "execution_count": 29,
   "metadata": {
    "collapsed": false
   },
   "outputs": [],
   "source": [
    "df.to_csv(\"iPhone7_pscore.csv\", index_col=0)"
   ]
  }
 ],
 "metadata": {
  "anaconda-cloud": {},
  "kernelspec": {
   "display_name": "Python [default]",
   "language": "python",
   "name": "python3"
  },
  "language_info": {
   "codemirror_mode": {
    "name": "ipython",
    "version": 3
   },
   "file_extension": ".py",
   "mimetype": "text/x-python",
   "name": "python",
   "nbconvert_exporter": "python",
   "pygments_lexer": "ipython3",
   "version": "3.5.2"
  }
 },
 "nbformat": 4,
 "nbformat_minor": 1
}
