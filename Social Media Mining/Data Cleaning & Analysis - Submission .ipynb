{
 "cells": [
  {
   "cell_type": "code",
   "execution_count": 1,
   "metadata": {
    "collapsed": true
   },
   "outputs": [],
   "source": [
    "import numpy as np\n",
    "import pickle as pkl\n",
    "import pandas as pd\n",
    "import csv"
   ]
  },
  {
   "cell_type": "code",
   "execution_count": 2,
   "metadata": {
    "collapsed": false
   },
   "outputs": [],
   "source": [
    "A = pkl.load(open(\"Aug.pkl\", \"rb\"))"
   ]
  },
  {
   "cell_type": "code",
   "execution_count": 3,
   "metadata": {
    "collapsed": false
   },
   "outputs": [],
   "source": [
    "B = pkl.load(open(\"Sept.pkl\", \"rb\"))"
   ]
  },
  {
   "cell_type": "code",
   "execution_count": 4,
   "metadata": {
    "collapsed": true
   },
   "outputs": [],
   "source": [
    "C = pkl.load(open(\"Mid_Oct.pkl\", \"rb\"))"
   ]
  },
  {
   "cell_type": "code",
   "execution_count": 5,
   "metadata": {
    "collapsed": true
   },
   "outputs": [],
   "source": [
    "iPhone7_tweets = A + B + C"
   ]
  },
  {
   "cell_type": "code",
   "execution_count": 6,
   "metadata": {
    "collapsed": false
   },
   "outputs": [
    {
     "data": {
      "text/plain": [
       "153031"
      ]
     },
     "execution_count": 6,
     "metadata": {},
     "output_type": "execute_result"
    }
   ],
   "source": [
    "len(iPhone7_tweets)"
   ]
  },
  {
   "cell_type": "code",
   "execution_count": 13,
   "metadata": {
    "collapsed": false
   },
   "outputs": [],
   "source": [
    "to_dataframe = []\n",
    "\n",
    "for tweetobject in iPhone7_tweets:\n",
    "    date = tweetobject.date\n",
    "    username = tweetobject.username\n",
    "    text = tweetobject.text\n",
    "    favorites = tweetobject.favorites\n",
    "    thisrow = [date, username, text, favorites]\n",
    "    to_dataframe.append(thisrow)\n",
    "\n",
    "df = pd.DataFrame(to_dataframe, columns=[\"date\", \"username\", \"text\", \"favorites_count\"])"
   ]
  },
  {
   "cell_type": "code",
   "execution_count": 21,
   "metadata": {
    "collapsed": false
   },
   "outputs": [
    {
     "data": {
      "text/html": [
       "<div>\n",
       "<table border=\"1\" class=\"dataframe\">\n",
       "  <thead>\n",
       "    <tr style=\"text-align: right;\">\n",
       "      <th></th>\n",
       "      <th>date</th>\n",
       "      <th>username</th>\n",
       "      <th>text</th>\n",
       "      <th>favorites_count</th>\n",
       "    </tr>\n",
       "  </thead>\n",
       "  <tbody>\n",
       "    <tr>\n",
       "      <th>0</th>\n",
       "      <td>2016-08-31 07:59:43</td>\n",
       "      <td>NCSLsales</td>\n",
       "      <td>Enter the iDrop News iPhone 7 Giveaway! http:/...</td>\n",
       "      <td>3</td>\n",
       "    </tr>\n",
       "    <tr>\n",
       "      <th>1</th>\n",
       "      <td>2016-08-31 07:59:32</td>\n",
       "      <td>davidbychkovceo</td>\n",
       "      <td>applenws: Griffin’s new adapter fixes iPhone 7...</td>\n",
       "      <td>0</td>\n",
       "    </tr>\n",
       "    <tr>\n",
       "      <th>2</th>\n",
       "      <td>2016-08-31 07:59:28</td>\n",
       "      <td>qwerty4577</td>\n",
       "      <td>Aun falta para la presentación del #Iphone7 , ...</td>\n",
       "      <td>0</td>\n",
       "    </tr>\n",
       "    <tr>\n",
       "      <th>3</th>\n",
       "      <td>2016-08-31 07:59:08</td>\n",
       "      <td>genioAlan</td>\n",
       "      <td>Me gustó un video de @YouTube de @bigzwk http:...</td>\n",
       "      <td>1</td>\n",
       "    </tr>\n",
       "    <tr>\n",
       "      <th>4</th>\n",
       "      <td>2016-08-31 07:59:05</td>\n",
       "      <td>MerseyLancsMob</td>\n",
       "      <td>iPhone 7 launch date confirmed - and it’s soon...</td>\n",
       "      <td>0</td>\n",
       "    </tr>\n",
       "  </tbody>\n",
       "</table>\n",
       "</div>"
      ],
      "text/plain": [
       "                 date         username  \\\n",
       "0 2016-08-31 07:59:43        NCSLsales   \n",
       "1 2016-08-31 07:59:32  davidbychkovceo   \n",
       "2 2016-08-31 07:59:28       qwerty4577   \n",
       "3 2016-08-31 07:59:08        genioAlan   \n",
       "4 2016-08-31 07:59:05   MerseyLancsMob   \n",
       "\n",
       "                                                text  favorites_count  \n",
       "0  Enter the iDrop News iPhone 7 Giveaway! http:/...                3  \n",
       "1  applenws: Griffin’s new adapter fixes iPhone 7...                0  \n",
       "2  Aun falta para la presentación del #Iphone7 , ...                0  \n",
       "3  Me gustó un video de @YouTube de @bigzwk http:...                1  \n",
       "4  iPhone 7 launch date confirmed - and it’s soon...                0  "
      ]
     },
     "execution_count": 21,
     "metadata": {},
     "output_type": "execute_result"
    }
   ],
   "source": [
    "df.head()"
   ]
  },
  {
   "cell_type": "code",
   "execution_count": 22,
   "metadata": {
    "collapsed": true
   },
   "outputs": [],
   "source": [
    "df.to_csv(\"iPhone7_Tweets.csv\")"
   ]
  },
  {
   "cell_type": "code",
   "execution_count": 23,
   "metadata": {
    "collapsed": true
   },
   "outputs": [],
   "source": [
    "new_df = pd.read_csv(\"iPhone7_Tweets.csv\", index_col=0, encoding=\"latin1\")"
   ]
  },
  {
   "cell_type": "code",
   "execution_count": 25,
   "metadata": {
    "collapsed": false
   },
   "outputs": [
    {
     "data": {
      "text/plain": [
       "'Almost positive the iPhone 7 is gonna be announced September 7th! Yeeyee im getting one of course'"
      ]
     },
     "execution_count": 25,
     "metadata": {},
     "output_type": "execute_result"
    }
   ],
   "source": [
    "df['text'].iloc[10]"
   ]
  },
  {
   "cell_type": "code",
   "execution_count": 26,
   "metadata": {
    "collapsed": false
   },
   "outputs": [],
   "source": [
    "from nltk import word_tokenize\n",
    "from afinn import Afinn"
   ]
  },
  {
   "cell_type": "code",
   "execution_count": 19,
   "metadata": {
    "collapsed": true
   },
   "outputs": [],
   "source": [
    "# Sentiment Analysis - Trial 1 using Natural Language Toolkit\n",
    "sentiment_labels = []\n",
    "\n",
    "for text in df['text']:\n",
    "    tokenized_text = word_tokenize(text)\n",
    "    if \"good\" in tokenized_text:\n",
    "        sentiment_labels.append(1) # This is a positive tweet; append 1\n",
    "    elif \"bad\" in tokenized_text:\n",
    "        sentiment_labels.append(-1) # This is a negative tweet; append -1\n",
    "    else:\n",
    "        sentiment_labels.append(0) # This tweet has no identifiable sentiment (by our current, simple model)"
   ]
  },
  {
   "cell_type": "code",
   "execution_count": 28,
   "metadata": {
    "collapsed": false
   },
   "outputs": [
    {
     "data": {
      "text/html": [
       "<div>\n",
       "<table border=\"1\" class=\"dataframe\">\n",
       "  <thead>\n",
       "    <tr style=\"text-align: right;\">\n",
       "      <th></th>\n",
       "      <th>date</th>\n",
       "      <th>username</th>\n",
       "      <th>text</th>\n",
       "      <th>favorites_count</th>\n",
       "    </tr>\n",
       "    <tr>\n",
       "      <th>sentiment</th>\n",
       "      <th></th>\n",
       "      <th></th>\n",
       "      <th></th>\n",
       "      <th></th>\n",
       "    </tr>\n",
       "  </thead>\n",
       "  <tbody>\n",
       "    <tr>\n",
       "      <th>-1</th>\n",
       "      <td>224</td>\n",
       "      <td>224</td>\n",
       "      <td>224</td>\n",
       "      <td>224</td>\n",
       "    </tr>\n",
       "    <tr>\n",
       "      <th>0</th>\n",
       "      <td>152165</td>\n",
       "      <td>152165</td>\n",
       "      <td>152165</td>\n",
       "      <td>152165</td>\n",
       "    </tr>\n",
       "    <tr>\n",
       "      <th>1</th>\n",
       "      <td>642</td>\n",
       "      <td>642</td>\n",
       "      <td>642</td>\n",
       "      <td>642</td>\n",
       "    </tr>\n",
       "  </tbody>\n",
       "</table>\n",
       "</div>"
      ],
      "text/plain": [
       "             date  username    text  favorites_count\n",
       "sentiment                                           \n",
       "-1            224       224     224              224\n",
       " 0         152165    152165  152165           152165\n",
       " 1            642       642     642              642"
      ]
     },
     "execution_count": 28,
     "metadata": {},
     "output_type": "execute_result"
    }
   ],
   "source": [
    "df['sentiment'] = sentiment_labels\n",
    "df.groupby([\"sentiment\"]).agg(\"count\")"
   ]
  },
  {
   "cell_type": "code",
   "execution_count": 38,
   "metadata": {
    "collapsed": false
   },
   "outputs": [
    {
     "name": "stdout",
     "output_type": "stream",
     "text": [
      "Negative\n",
      "Can't wait for the iPhone 7 to come out so I can finally afford this bad boy pic.twitter.com/ieFpAXxGmS\n",
      "**************************************************\n",
      "iPhone 7 Release Will Punish Buyers with Bad Credit: If you have bad credit the iPhone 7 ... https:// binged.it/2bvH4sC #badcredit #finance\n",
      "**************************************************\n",
      "Uh oh. Looks like bad news for the new #iPhone7 camera pic.twitter.com/rMiuGnnmEo\n",
      "**************************************************\n",
      "I'm getting this bad baby #iPhone7\n",
      "**************************************************\n",
      "i want the iphone 7 so bad omg\n",
      "**************************************************\n"
     ]
    }
   ],
   "source": [
    "iPhone7_neg = df[(df['sentiment']==-1)]\n",
    "print(\"Negative\")\n",
    "for t in iPhone7_neg['text'][20:25]:\n",
    "    print(t)\n",
    "    print(\"*\"*50)"
   ]
  },
  {
   "cell_type": "code",
   "execution_count": 39,
   "metadata": {
    "collapsed": false
   },
   "outputs": [
    {
     "name": "stdout",
     "output_type": "stream",
     "text": [
      "Positive\n",
      "the day I start sixth form is the day the #iPhone7 is being released. Not a good Omen!\n",
      "**************************************************\n",
      "I just got my 6s three months ago so I'm good but I still wanna see what it looks like #iPhone7\n",
      "**************************************************\n",
      "I keep telling myself that I won't upgrade to the iPhone 7 , and that my 6s Plus is good enough. But I know I am lying to myself.\n",
      "**************************************************\n",
      "the only good thing about the #iPhone7 release is that the prices for the iPhone6 are gonna depreciate pic.twitter.com/lzlxEgqUf2\n",
      "**************************************************\n",
      "Im good with the iPhone 6 tbh #iPhone7\n",
      "**************************************************\n",
      "Are these #iPhone 7/7Plus #specs accurate? Only time will tell but it does look good! pic.twitter.com/n4loXsV5Dv\n",
      "**************************************************\n",
      "@bryanmwolfe @cultofmac i think an iPhone 5 Black Color like iPhone 7 would look reaaaally good.\n",
      "**************************************************\n",
      "Is #iOS935 the upgrade update? You know, the one that tanks the performance of an otherwise good device before the #iPhone7 announcement..\n",
      "**************************************************\n",
      "#iPhone7 Comes out September 7th...Time to start acting good...Let me go clean the house\n",
      "**************************************************\n",
      "#iPhone7 better be good\n",
      "**************************************************\n"
     ]
    }
   ],
   "source": [
    "iPhone7_pos = df[(df['sentiment']==1)]\n",
    "print(\"Positive\")\n",
    "for t in iPhone7_pos['text'][100:110]:\n",
    "    print(t)\n",
    "    print(\"*\"*50)"
   ]
  },
  {
   "cell_type": "code",
   "execution_count": 40,
   "metadata": {
    "collapsed": true
   },
   "outputs": [],
   "source": [
    "# Sentiment Analysis - Trial 2 using AFINN\n",
    "afinn = Afinn()"
   ]
  },
  {
   "cell_type": "code",
   "execution_count": 41,
   "metadata": {
    "collapsed": false
   },
   "outputs": [
    {
     "data": {
      "text/plain": [
       "[0.0, -3.0, -1.0, 0.0, 0.0, 1.0, 0.0, 0.0, -4.0, -1.0]"
      ]
     },
     "execution_count": 41,
     "metadata": {},
     "output_type": "execute_result"
    }
   ],
   "source": [
    "pscore = []\n",
    "\n",
    "for text in df['text']:\n",
    "    pscore.append(afinn.score(text))\n",
    "\n",
    "pscore[:10]"
   ]
  },
  {
   "cell_type": "code",
   "execution_count": 42,
   "metadata": {
    "collapsed": false
   },
   "outputs": [
    {
     "data": {
      "text/html": [
       "<div>\n",
       "<table border=\"1\" class=\"dataframe\">\n",
       "  <thead>\n",
       "    <tr style=\"text-align: right;\">\n",
       "      <th></th>\n",
       "      <th>date</th>\n",
       "      <th>username</th>\n",
       "      <th>text</th>\n",
       "      <th>favorites_count</th>\n",
       "      <th>sentiment</th>\n",
       "      <th>pscore</th>\n",
       "    </tr>\n",
       "  </thead>\n",
       "  <tbody>\n",
       "    <tr>\n",
       "      <th>0</th>\n",
       "      <td>2016-08-31 07:59:43</td>\n",
       "      <td>NCSLsales</td>\n",
       "      <td>Enter the iDrop News iPhone 7 Giveaway! http:/...</td>\n",
       "      <td>3</td>\n",
       "      <td>0</td>\n",
       "      <td>0.0</td>\n",
       "    </tr>\n",
       "    <tr>\n",
       "      <th>1</th>\n",
       "      <td>2016-08-31 07:59:32</td>\n",
       "      <td>davidbychkovceo</td>\n",
       "      <td>applenws: Griffin’s new adapter fixes iPhone 7...</td>\n",
       "      <td>0</td>\n",
       "      <td>0</td>\n",
       "      <td>-3.0</td>\n",
       "    </tr>\n",
       "    <tr>\n",
       "      <th>2</th>\n",
       "      <td>2016-08-31 07:59:28</td>\n",
       "      <td>qwerty4577</td>\n",
       "      <td>Aun falta para la presentación del #Iphone7 , ...</td>\n",
       "      <td>0</td>\n",
       "      <td>0</td>\n",
       "      <td>-1.0</td>\n",
       "    </tr>\n",
       "    <tr>\n",
       "      <th>3</th>\n",
       "      <td>2016-08-31 07:59:08</td>\n",
       "      <td>genioAlan</td>\n",
       "      <td>Me gustó un video de @YouTube de @bigzwk http:...</td>\n",
       "      <td>1</td>\n",
       "      <td>0</td>\n",
       "      <td>0.0</td>\n",
       "    </tr>\n",
       "    <tr>\n",
       "      <th>4</th>\n",
       "      <td>2016-08-31 07:59:05</td>\n",
       "      <td>MerseyLancsMob</td>\n",
       "      <td>iPhone 7 launch date confirmed - and it’s soon...</td>\n",
       "      <td>0</td>\n",
       "      <td>0</td>\n",
       "      <td>0.0</td>\n",
       "    </tr>\n",
       "    <tr>\n",
       "      <th>5</th>\n",
       "      <td>2016-08-31 07:58:45</td>\n",
       "      <td>Shazib1018</td>\n",
       "      <td>I liked a @YouTube video http:// youtu.be/bsr_...</td>\n",
       "      <td>0</td>\n",
       "      <td>0</td>\n",
       "      <td>1.0</td>\n",
       "    </tr>\n",
       "    <tr>\n",
       "      <th>6</th>\n",
       "      <td>2016-08-31 07:58:44</td>\n",
       "      <td>Atomox</td>\n",
       "      <td>#timessquare #nyc #iphone6 #blackandwhite @Tim...</td>\n",
       "      <td>1</td>\n",
       "      <td>0</td>\n",
       "      <td>0.0</td>\n",
       "    </tr>\n",
       "    <tr>\n",
       "      <th>7</th>\n",
       "      <td>2016-08-31 07:58:38</td>\n",
       "      <td>Cococopic6</td>\n",
       "      <td>Battery info of iPhone6 Plus : 73% Being used ...</td>\n",
       "      <td>1</td>\n",
       "      <td>0</td>\n",
       "      <td>0.0</td>\n",
       "    </tr>\n",
       "    <tr>\n",
       "      <th>8</th>\n",
       "      <td>2016-08-31 07:58:36</td>\n",
       "      <td>eStoreID</td>\n",
       "      <td>Trending in Apple Comment: iPhone killed the p...</td>\n",
       "      <td>0</td>\n",
       "      <td>0</td>\n",
       "      <td>-4.0</td>\n",
       "    </tr>\n",
       "    <tr>\n",
       "      <th>9</th>\n",
       "      <td>2016-08-31 07:58:30</td>\n",
       "      <td>Anishwebering</td>\n",
       "      <td>Apple Leak Says The iPhone Home Button Will Be...</td>\n",
       "      <td>0</td>\n",
       "      <td>0</td>\n",
       "      <td>-1.0</td>\n",
       "    </tr>\n",
       "  </tbody>\n",
       "</table>\n",
       "</div>"
      ],
      "text/plain": [
       "                 date         username  \\\n",
       "0 2016-08-31 07:59:43        NCSLsales   \n",
       "1 2016-08-31 07:59:32  davidbychkovceo   \n",
       "2 2016-08-31 07:59:28       qwerty4577   \n",
       "3 2016-08-31 07:59:08        genioAlan   \n",
       "4 2016-08-31 07:59:05   MerseyLancsMob   \n",
       "5 2016-08-31 07:58:45       Shazib1018   \n",
       "6 2016-08-31 07:58:44           Atomox   \n",
       "7 2016-08-31 07:58:38       Cococopic6   \n",
       "8 2016-08-31 07:58:36         eStoreID   \n",
       "9 2016-08-31 07:58:30    Anishwebering   \n",
       "\n",
       "                                                text  favorites_count  \\\n",
       "0  Enter the iDrop News iPhone 7 Giveaway! http:/...                3   \n",
       "1  applenws: Griffin’s new adapter fixes iPhone 7...                0   \n",
       "2  Aun falta para la presentación del #Iphone7 , ...                0   \n",
       "3  Me gustó un video de @YouTube de @bigzwk http:...                1   \n",
       "4  iPhone 7 launch date confirmed - and it’s soon...                0   \n",
       "5  I liked a @YouTube video http:// youtu.be/bsr_...                0   \n",
       "6  #timessquare #nyc #iphone6 #blackandwhite @Tim...                1   \n",
       "7  Battery info of iPhone6 Plus : 73% Being used ...                1   \n",
       "8  Trending in Apple Comment: iPhone killed the p...                0   \n",
       "9  Apple Leak Says The iPhone Home Button Will Be...                0   \n",
       "\n",
       "   sentiment  pscore  \n",
       "0          0     0.0  \n",
       "1          0    -3.0  \n",
       "2          0    -1.0  \n",
       "3          0     0.0  \n",
       "4          0     0.0  \n",
       "5          0     1.0  \n",
       "6          0     0.0  \n",
       "7          0     0.0  \n",
       "8          0    -4.0  \n",
       "9          0    -1.0  "
      ]
     },
     "execution_count": 42,
     "metadata": {},
     "output_type": "execute_result"
    }
   ],
   "source": [
    "df['pscore'] = pscore\n",
    "df.head(10)"
   ]
  },
  {
   "cell_type": "code",
   "execution_count": 47,
   "metadata": {
    "collapsed": false
   },
   "outputs": [],
   "source": [
    "positive_pscore = df[df['pscore'] > 0]"
   ]
  },
  {
   "cell_type": "code",
   "execution_count": 48,
   "metadata": {
    "collapsed": false
   },
   "outputs": [
    {
     "data": {
      "text/plain": [
       "(32342, 6)"
      ]
     },
     "execution_count": 48,
     "metadata": {},
     "output_type": "execute_result"
    }
   ],
   "source": [
    "positive_pscore.shape"
   ]
  },
  {
   "cell_type": "code",
   "execution_count": 49,
   "metadata": {
    "collapsed": false
   },
   "outputs": [
    {
     "data": {
      "text/html": [
       "<div>\n",
       "<table border=\"1\" class=\"dataframe\">\n",
       "  <thead>\n",
       "    <tr style=\"text-align: right;\">\n",
       "      <th></th>\n",
       "      <th>date</th>\n",
       "      <th>username</th>\n",
       "      <th>text</th>\n",
       "      <th>favorites_count</th>\n",
       "      <th>sentiment</th>\n",
       "      <th>pscore</th>\n",
       "    </tr>\n",
       "  </thead>\n",
       "  <tbody>\n",
       "    <tr>\n",
       "      <th>5</th>\n",
       "      <td>2016-08-31 07:58:45</td>\n",
       "      <td>Shazib1018</td>\n",
       "      <td>I liked a @YouTube video http:// youtu.be/bsr_...</td>\n",
       "      <td>0</td>\n",
       "      <td>0</td>\n",
       "      <td>1.0</td>\n",
       "    </tr>\n",
       "    <tr>\n",
       "      <th>10</th>\n",
       "      <td>2016-08-31 07:58:27</td>\n",
       "      <td>leelelee1367890</td>\n",
       "      <td>Almost positive the iPhone 7 is gonna be annou...</td>\n",
       "      <td>4</td>\n",
       "      <td>0</td>\n",
       "      <td>2.0</td>\n",
       "    </tr>\n",
       "    <tr>\n",
       "      <th>26</th>\n",
       "      <td>2016-08-31 07:55:25</td>\n",
       "      <td>krishdtech</td>\n",
       "      <td>Apple Stock: iPhone 7 “Good Enough” For Upgrad...</td>\n",
       "      <td>0</td>\n",
       "      <td>0</td>\n",
       "      <td>3.0</td>\n",
       "    </tr>\n",
       "    <tr>\n",
       "      <th>34</th>\n",
       "      <td>2016-08-31 07:53:21</td>\n",
       "      <td>tdaigle01</td>\n",
       "      <td>BREAKING: iPhone 7 Launch Date And Details Con...</td>\n",
       "      <td>0</td>\n",
       "      <td>0</td>\n",
       "      <td>4.0</td>\n",
       "    </tr>\n",
       "    <tr>\n",
       "      <th>35</th>\n",
       "      <td>2016-08-31 07:53:15</td>\n",
       "      <td>TechnoDoze</td>\n",
       "      <td>It’s official, #apple iphone 7 to be launched ...</td>\n",
       "      <td>0</td>\n",
       "      <td>0</td>\n",
       "      <td>1.0</td>\n",
       "    </tr>\n",
       "  </tbody>\n",
       "</table>\n",
       "</div>"
      ],
      "text/plain": [
       "                  date         username  \\\n",
       "5  2016-08-31 07:58:45       Shazib1018   \n",
       "10 2016-08-31 07:58:27  leelelee1367890   \n",
       "26 2016-08-31 07:55:25       krishdtech   \n",
       "34 2016-08-31 07:53:21        tdaigle01   \n",
       "35 2016-08-31 07:53:15       TechnoDoze   \n",
       "\n",
       "                                                 text  favorites_count  \\\n",
       "5   I liked a @YouTube video http:// youtu.be/bsr_...                0   \n",
       "10  Almost positive the iPhone 7 is gonna be annou...                4   \n",
       "26  Apple Stock: iPhone 7 “Good Enough” For Upgrad...                0   \n",
       "34  BREAKING: iPhone 7 Launch Date And Details Con...                0   \n",
       "35  It’s official, #apple iphone 7 to be launched ...                0   \n",
       "\n",
       "    sentiment  pscore  \n",
       "5           0     1.0  \n",
       "10          0     2.0  \n",
       "26          0     3.0  \n",
       "34          0     4.0  \n",
       "35          0     1.0  "
      ]
     },
     "execution_count": 49,
     "metadata": {},
     "output_type": "execute_result"
    }
   ],
   "source": [
    "positive_pscore.head()"
   ]
  },
  {
   "cell_type": "code",
   "execution_count": 54,
   "metadata": {
    "collapsed": true
   },
   "outputs": [],
   "source": [
    "negative_pscore = df[df['pscore'] < 0]"
   ]
  },
  {
   "cell_type": "code",
   "execution_count": 55,
   "metadata": {
    "collapsed": false
   },
   "outputs": [
    {
     "data": {
      "text/plain": [
       "(18272, 6)"
      ]
     },
     "execution_count": 55,
     "metadata": {},
     "output_type": "execute_result"
    }
   ],
   "source": [
    "negative_pscore.shape"
   ]
  },
  {
   "cell_type": "code",
   "execution_count": 56,
   "metadata": {
    "collapsed": false
   },
   "outputs": [
    {
     "data": {
      "text/html": [
       "<div>\n",
       "<table border=\"1\" class=\"dataframe\">\n",
       "  <thead>\n",
       "    <tr style=\"text-align: right;\">\n",
       "      <th></th>\n",
       "      <th>date</th>\n",
       "      <th>username</th>\n",
       "      <th>text</th>\n",
       "      <th>favorites_count</th>\n",
       "      <th>sentiment</th>\n",
       "      <th>pscore</th>\n",
       "    </tr>\n",
       "  </thead>\n",
       "  <tbody>\n",
       "    <tr>\n",
       "      <th>1</th>\n",
       "      <td>2016-08-31 07:59:32</td>\n",
       "      <td>davidbychkovceo</td>\n",
       "      <td>applenws: Griffin’s new adapter fixes iPhone 7...</td>\n",
       "      <td>0</td>\n",
       "      <td>0</td>\n",
       "      <td>-3.0</td>\n",
       "    </tr>\n",
       "    <tr>\n",
       "      <th>2</th>\n",
       "      <td>2016-08-31 07:59:28</td>\n",
       "      <td>qwerty4577</td>\n",
       "      <td>Aun falta para la presentación del #Iphone7 , ...</td>\n",
       "      <td>0</td>\n",
       "      <td>0</td>\n",
       "      <td>-1.0</td>\n",
       "    </tr>\n",
       "    <tr>\n",
       "      <th>8</th>\n",
       "      <td>2016-08-31 07:58:36</td>\n",
       "      <td>eStoreID</td>\n",
       "      <td>Trending in Apple Comment: iPhone killed the p...</td>\n",
       "      <td>0</td>\n",
       "      <td>0</td>\n",
       "      <td>-4.0</td>\n",
       "    </tr>\n",
       "    <tr>\n",
       "      <th>9</th>\n",
       "      <td>2016-08-31 07:58:30</td>\n",
       "      <td>Anishwebering</td>\n",
       "      <td>Apple Leak Says The iPhone Home Button Will Be...</td>\n",
       "      <td>0</td>\n",
       "      <td>0</td>\n",
       "      <td>-1.0</td>\n",
       "    </tr>\n",
       "    <tr>\n",
       "      <th>16</th>\n",
       "      <td>2016-08-31 07:56:38</td>\n",
       "      <td>iPhone6_App_Dev</td>\n",
       "      <td>#gamedev #Apple 'Strike Team' Is an 'Xcom'-Esq...</td>\n",
       "      <td>2</td>\n",
       "      <td>0</td>\n",
       "      <td>-1.0</td>\n",
       "    </tr>\n",
       "  </tbody>\n",
       "</table>\n",
       "</div>"
      ],
      "text/plain": [
       "                  date         username  \\\n",
       "1  2016-08-31 07:59:32  davidbychkovceo   \n",
       "2  2016-08-31 07:59:28       qwerty4577   \n",
       "8  2016-08-31 07:58:36         eStoreID   \n",
       "9  2016-08-31 07:58:30    Anishwebering   \n",
       "16 2016-08-31 07:56:38  iPhone6_App_Dev   \n",
       "\n",
       "                                                 text  favorites_count  \\\n",
       "1   applenws: Griffin’s new adapter fixes iPhone 7...                0   \n",
       "2   Aun falta para la presentación del #Iphone7 , ...                0   \n",
       "8   Trending in Apple Comment: iPhone killed the p...                0   \n",
       "9   Apple Leak Says The iPhone Home Button Will Be...                0   \n",
       "16  #gamedev #Apple 'Strike Team' Is an 'Xcom'-Esq...                2   \n",
       "\n",
       "    sentiment  pscore  \n",
       "1           0    -3.0  \n",
       "2           0    -1.0  \n",
       "8           0    -4.0  \n",
       "9           0    -1.0  \n",
       "16          0    -1.0  "
      ]
     },
     "execution_count": 56,
     "metadata": {},
     "output_type": "execute_result"
    }
   ],
   "source": [
    "negative_pscore.head()"
   ]
  },
  {
   "cell_type": "code",
   "execution_count": 57,
   "metadata": {
    "collapsed": true
   },
   "outputs": [],
   "source": [
    "# Semantic Orientation of a Word \n",
    "def getso(seed_pos, seed_neg, texts, min_df):\n",
    "    from sklearn.feature_extraction.text import CountVectorizer\n",
    "    from sklearn.preprocessing import binarize\n",
    "    import numpy as np\n",
    "    n = len(texts)\n",
    "    cv = CountVectorizer(min_df=min_df)\n",
    "    vector = cv.fit_transform(texts)\n",
    "    rvocab = {v: k for k, v in cv.vocabulary_.items()}\n",
    "    bvector = binarize(vector)\n",
    "    docfreq = np.sum(bvector.toarray(), axis=0)\n",
    "    docfreq = docfreq/n\n",
    "    docfreq = docfreq.reshape(docfreq.shape[0], 1)\n",
    "    com = vector.T.dot(vector).toarray()\n",
    "    np.fill_diagonal(com, 0)\n",
    "    com = com/n\n",
    "    p_single = docfreq.dot(docfreq.T)\n",
    "    pmi = np.divide(com, p_single)\n",
    "    sos = {}\n",
    "    for word, index in cv.vocabulary_.items():\n",
    "        so = 0\n",
    "        for pos in seed_pos:\n",
    "            p_index = cv.vocabulary_[pos]\n",
    "            so += pmi[index, p_index]\n",
    "        for neg in seed_neg:\n",
    "            n_index = cv.vocabulary_[neg]\n",
    "            so -= pmi[index, n_index]\n",
    "        sos[word] = so\n",
    "    return sos  "
   ]
  }
 ],
 "metadata": {
  "anaconda-cloud": {},
  "kernelspec": {
   "display_name": "Python [default]",
   "language": "python",
   "name": "python3"
  },
  "language_info": {
   "codemirror_mode": {
    "name": "ipython",
    "version": 3
   },
   "file_extension": ".py",
   "mimetype": "text/x-python",
   "name": "python",
   "nbconvert_exporter": "python",
   "pygments_lexer": "ipython3",
   "version": "3.5.2"
  }
 },
 "nbformat": 4,
 "nbformat_minor": 1
}
